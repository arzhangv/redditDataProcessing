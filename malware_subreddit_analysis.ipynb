{
 "cells": [
  {
   "cell_type": "code",
   "execution_count": 2,
   "metadata": {
    "pycharm": {
     "name": "#%%\n"
    }
   },
   "outputs": [],
   "source": [
    "import pandas as pd\n",
    "from pandas import DataFrame\n",
    "import matplotlib.pyplot as plt\n",
    "%matplotlib inline\n",
    "import numpy as np \n",
    "from scipy.stats import norm\n",
    "import statistics "
   ]
  },
  {
   "cell_type": "code",
   "execution_count": 3,
   "metadata": {
    "pycharm": {
     "name": "#%%\n"
    }
   },
   "outputs": [
    {
     "name": "stdout",
     "output_type": "stream",
     "text": [
      "The average number of posts for active users is: 2.7388608507570296\n",
      "\n"
     ]
    },
    {
     "data": {
      "text/html": [
       "<div>\n",
       "<style scoped>\n",
       "    .dataframe tbody tr th:only-of-type {\n",
       "        vertical-align: middle;\n",
       "    }\n",
       "\n",
       "    .dataframe tbody tr th {\n",
       "        vertical-align: top;\n",
       "    }\n",
       "\n",
       "    .dataframe thead th {\n",
       "        text-align: right;\n",
       "    }\n",
       "</style>\n",
       "<table border=\"1\" class=\"dataframe\">\n",
       "  <thead>\n",
       "    <tr style=\"text-align: right;\">\n",
       "      <th></th>\n",
       "      <th>Username</th>\n",
       "      <th>Number of Posts by User</th>\n",
       "    </tr>\n",
       "  </thead>\n",
       "  <tbody>\n",
       "    <tr>\n",
       "      <th>3220</th>\n",
       "      <td>[deleted]</td>\n",
       "      <td>1396</td>\n",
       "    </tr>\n",
       "    <tr>\n",
       "      <th>6069</th>\n",
       "      <td>securityaffairs</td>\n",
       "      <td>523</td>\n",
       "    </tr>\n",
       "    <tr>\n",
       "      <th>2352</th>\n",
       "      <td>RemoveMalwarethreats</td>\n",
       "      <td>456</td>\n",
       "    </tr>\n",
       "    <tr>\n",
       "      <th>5897</th>\n",
       "      <td>removevirusbrowser</td>\n",
       "      <td>377</td>\n",
       "    </tr>\n",
       "    <tr>\n",
       "      <th>6290</th>\n",
       "      <td>stevemartine01</td>\n",
       "      <td>336</td>\n",
       "    </tr>\n",
       "    <tr>\n",
       "      <th>3311</th>\n",
       "      <td>adolf101william</td>\n",
       "      <td>222</td>\n",
       "    </tr>\n",
       "    <tr>\n",
       "      <th>4175</th>\n",
       "      <td>emmaparker817</td>\n",
       "      <td>187</td>\n",
       "    </tr>\n",
       "    <tr>\n",
       "      <th>1487</th>\n",
       "      <td>JonathanJOy</td>\n",
       "      <td>159</td>\n",
       "    </tr>\n",
       "    <tr>\n",
       "      <th>861</th>\n",
       "      <td>DrinkMoreCodeMore</td>\n",
       "      <td>134</td>\n",
       "    </tr>\n",
       "    <tr>\n",
       "      <th>4726</th>\n",
       "      <td>jamesbond9657</td>\n",
       "      <td>109</td>\n",
       "    </tr>\n",
       "  </tbody>\n",
       "</table>\n",
       "</div>"
      ],
      "text/plain": [
       "                  Username  Number of Posts by User\n",
       "3220             [deleted]                     1396\n",
       "6069       securityaffairs                      523\n",
       "2352  RemoveMalwarethreats                      456\n",
       "5897    removevirusbrowser                      377\n",
       "6290        stevemartine01                      336\n",
       "3311       adolf101william                      222\n",
       "4175         emmaparker817                      187\n",
       "1487           JonathanJOy                      159\n",
       "861      DrinkMoreCodeMore                      134\n",
       "4726         jamesbond9657                      109"
      ]
     },
     "metadata": {},
     "output_type": "display_data"
    },
    {
     "data": {
      "image/png": "[encoded data removed]",
      "text/plain": [
       "<Figure size 432x288 with 1 Axes>"
      ]
     },
     "metadata": {
      "needs_background": "light"
     },
     "output_type": "display_data"
    },
    {
     "name": "stdout",
     "output_type": "stream",
     "text": [
      "6935\n",
      "Ninety percent of posts: 1503\n",
      "0.05201503215560482\n"
     ]
    }
   ],
   "source": [
    "data = pd.read_csv(\"post_data.csv\")\n",
    "data[\"Number of Posts by User\"] = 0\n",
    "new_df = data.groupby(['Username'])['Number of Posts by User'].agg('count').reset_index()\n",
    "new_df = new_df.sort_values(by='Number of Posts by User', ascending=False)\n",
    "average_numeber_posts_per_active_user = new_df['Number of Posts by User'].mean()\n",
    "print(\"The average number of posts for active users is: \" + str(average_numeber_posts_per_active_user)+ \"\\n\")\n",
    "number_of_users_posting = len(new_df)\n",
    "top_ten_users = new_df.head(10)\n",
    "display(top_ten_users)\n",
    "\n",
    "#Displaying the desperancy betweent the most active users\n",
    "plt.bar(top_ten_users['Username'],top_ten_users['Number of Posts by User'], width = 0.8)\n",
    "plt.show()\n",
    "print(number_of_users_posting)\n",
    "#getting the number of active users\n",
    "#display(new_df)\n",
    "number_of_total_posts = 3670\n",
    "number_of_total_followers = 63597\n",
    "average_active_user_base = number_of_total_posts/number_of_total_followers\n",
    "#print(str(average_active_user_base))\n",
    "\n",
    "#we need to loop thru and add the number of posts by user until\n",
    "percentage_of_posts = 0.0\n",
    "number_of_users_posting_ninety_percent = 0\n",
    "current_com_count = 0\n",
    "for i in range(0,len(new_df)):\n",
    "    if(percentage_of_posts < .90):\n",
    "        current_com_count = new_df['Number of Posts by User'][i] + current_com_count\n",
    "        percentage_of_posts = current_com_count/number_of_total_posts\n",
    "        number_of_users_posting_ninety_percent = number_of_users_posting_ninety_percent+ 1\n",
    "        \n",
    "\n",
    "print(\"Ninety percent of posts: \"+ str(number_of_users_posting_ninety_percent))\n",
    "\n",
    "total = current_com_count/number_of_total_followers\n",
    "print(total)\n",
    "\n",
    "#for i in range(0,len(new_df)):\n",
    "    #if(new_df['Number of Posts by User'] > 10):\n",
    "        #number_of_users_posting_more_than_ten_comments = number_of_users_posting_more_than_ten_comments + 1\n",
    "\n",
    "       "
   ]
  },
  {
   "cell_type": "code",
   "execution_count": 4,
   "metadata": {
    "pycharm": {
     "name": "#%%\n"
    }
   },
   "outputs": [
    {
     "data": {
      "text/plain": [
       "<matplotlib.legend.Legend at 0x28e0219a3d0>"
      ]
     },
     "execution_count": 4,
     "metadata": {},
     "output_type": "execute_result"
    },
    {
     "data": {
      "image/png": "[encoded data removed]",
      "text/plain": [
       "<Figure size 432x288 with 1 Axes>"
      ]
     },
     "metadata": {
      "needs_background": "light"
     },
     "output_type": "display_data"
    }
   ],
   "source": [
    "# No of Data points\n",
    "N = 6935\n",
    "\n",
    "#initializing random values \n",
    "\n",
    "data = np.random.randn(N)\n",
    "\n",
    "# getting data of the histogram\n",
    "count, bins_count = np.histogram(data, bins=10)\n",
    "\n",
    "# finding the PDF of the histogram using count values\n",
    "pdf = count / sum(count)\n",
    "\n",
    "# using numpy np.cumsum to calculate the CDF\n",
    "# We can also find using the PDF values by looping and adding\n",
    "cdf = np.cumsum(pdf)\n",
    "\n",
    "# plotting PDF and CDF\n",
    "plt.plot(bins_count[1:], pdf, color=\"red\", label=\"PDF\")\n",
    "plt.plot(bins_count[1:], cdf, label=\"CDF\")\n",
    "plt.legend()\n",
    "#Example how many post-"
   ]
  },
  {
   "cell_type": "code",
   "execution_count": null,
   "metadata": {
    "pycharm": {
     "name": "#%%\n"
    }
   },
   "outputs": [],
   "source": []
  }
 ],
 "metadata": {
  "kernelspec": {
   "display_name": "Python 3",
   "language": "python",
   "name": "python3"
  },
  "language_info": {
   "codemirror_mode": {
    "name": "ipython",
    "version": 3
   },
   "file_extension": ".py",
   "mimetype": "text/x-python",
   "name": "python",
   "nbconvert_exporter": "python",
   "pygments_lexer": "ipython3",
   "version": "3.8.5"
  }
 },
 "nbformat": 4,
 "nbformat_minor": 4
}